{
 "cells": [
  {
   "cell_type": "code",
   "execution_count": 4,
   "id": "dd2c1c90-e0d0-4c1e-8665-66a5b8addd5a",
   "metadata": {
    "tags": []
   },
   "outputs": [],
   "source": [
    "# first import the standard data science library \n",
    "\n",
    "import matplotlib.pyplot as plt\n",
    "import numpy as np\n",
    "import pandas as pd\n",
    "import seaborn as sns\n",
    "\n",
    "#Load the data.\n",
    "\n",
    "df = pd.read_csv('Datasets/iris_dataset.csv')"
   ]
  },
  {
   "cell_type": "code",
   "execution_count": null,
   "id": "01f2827d-2ff1-4e78-9169-7acfb34f9421",
   "metadata": {},
   "outputs": [],
   "source": []
  }
 ],
 "metadata": {
  "kernelspec": {
   "display_name": "Python 3 (ipykernel)",
   "language": "python",
   "name": "python3"
  },
  "language_info": {
   "codemirror_mode": {
    "name": "ipython",
    "version": 3
   },
   "file_extension": ".py",
   "mimetype": "text/x-python",
   "name": "python",
   "nbconvert_exporter": "python",
   "pygments_lexer": "ipython3",
   "version": "3.11.5"
  }
 },
 "nbformat": 4,
 "nbformat_minor": 5
}
