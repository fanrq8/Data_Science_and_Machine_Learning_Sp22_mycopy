{
 "cells": [
  {
   "cell_type": "markdown",
   "metadata": {},
   "source": [
    "---\n",
    "\n",
    "# Python Part 3. Dictionaries\n",
    "\n",
    "[![Open In Colab](https://colab.research.google.com/assets/colab-badge.svg)](https://colab.research.google.com/github/RandyRDavila/Data_Science_and_Machine_Learning_Spring_2022/blob/main/Lecture_1/Python_Part_3_Dictionaries.ipynb)\n",
    "\n",
    "\n",
    "\n",
    "Python **dictionaries** are *key-value* pairs and I highly encourage you to visit RealPython.com by clicking [here](https://realpython.com/python-dicts/) for more on dictionaries.  \n",
    "\n",
    "\n",
    "The following syntax illustrates how to create a Python dictionary object. We also use the ```items()``` method to view the key-value pairs in our dictionary:\n",
    "```python\n",
    "sample_dictionary = {\"first_name\": \"John\", \n",
    "                     \"last_name\": \"Doe\",\n",
    "                     \"age\": 34\n",
    "                    }\n",
    "\n",
    "print(f\"sample_dictionary = {sample_dictionary}\")\n",
    "print(f\"sample_dictionary key-value pairs = {sample_dictionary.items()}\")\n",
    "\n",
    "\n",
    "```\n",
    "\n",
    "**Note.** When the contents of a list, tuple, set, or dictionary begin to get too wide it is common (and Pythonic) to simply continue the instantiation of the object on the line directly under where you started. \n",
    "\n",
    "---"
   ]
  },
  {
   "cell_type": "code",
   "execution_count": 16,
   "metadata": {},
   "outputs": [
    {
     "name": "stdout",
     "output_type": "stream",
     "text": [
      "John Doe\n",
      "Age: 34\n",
      "Salary: 100000\n",
      "\n",
      "Jane Doe\n",
      "Age: 32\n",
      "Salary: 90000\n",
      "\n"
     ]
    },
    {
     "data": {
      "text/plain": [
       "{'John Doe': {'first_name': 'John',\n",
       "  'last_name': 'Doe',\n",
       "  'age': 34,\n",
       "  'salary': 100000},\n",
       " 'Jane Doe': {'first_name': 'Jane',\n",
       "  'last_name': 'Doe',\n",
       "  'age': 32,\n",
       "  'salary': 90000},\n",
       " 'Joe Smith': {'age': 45, 'salary': 80000}}"
      ]
     },
     "execution_count": 16,
     "metadata": {},
     "output_type": "execute_result"
    }
   ],
   "source": [
    "john_data = {\n",
    "    \"first_name\":\"John\",\n",
    "    \"last_name\":\"Doe\",\n",
    "    \"age\":34,\n",
    "    \"salary\":100_000,\n",
    "}\n",
    "jane_data = {\n",
    "    \"first_name\":\"Jane\",\n",
    "    \"last_name\":\"Doe\",\n",
    "    \"age\":32,\n",
    "    \"salary\":90_000,\n",
    "}\n",
    "employee_data ={\n",
    "    \"John Doe\":john_data,\n",
    "    \"Jane Doe\":jane_data,\n",
    "}\n",
    "for name in employee_data:\n",
    "    print(name)\n",
    "    print(\"Age:\",employee_data[name][\"age\"])\n",
    "    print(\"Salary:\",employee_data[name][\"salary\"])\n",
    "    print()\n",
    "    \n",
    "#total_employee_expenses = sum([employee_data[employee]][\"salary\"] for employee in employee_data])\n",
    "#print(total_employee_expenses)\n",
    "\n",
    "def total_expenses(database,key,category):\n",
    "    return sum([database[key][category] for key in database])\n",
    "\n",
    "#Create a object \n",
    "class Database:\n",
    "    def __init__(self,employee_data,vendor_data=None):\n",
    "        self.employee_data = employee_data\n",
    "        self.vendor_data = vendor_data\n",
    "    def get_employee_names(self):\n",
    "        return list(self.employee_data.keys())\n",
    "\n",
    "    def total_employee_salary(self):\n",
    "        return sum([elf.employee_data[name][\"salary\"] for name in self.employee_data])\n",
    "\n",
    "    def add_employee(self, name, data):\n",
    "        self.employee_data[name]=data\n",
    "    def yearly_expenses(self):\n",
    "        return self.total_employee_salary()+self.total_vendor_data()\n",
    "\n",
    "db=Database(employee_data)\n",
    "#automatically named in the class \n",
    "db.add_employee(\"Joe Smith\",{\"age\":45,\"salary\":80_000})\n",
    "db.employee_data\n"
   ]
  },
  {
   "cell_type": "markdown",
   "metadata": {},
   "source": [
    "---\n",
    "\n",
    "The key-value pairs are shown in this print statement and seperated by the comma's. For each pair the key appears on the left of the colon symbol and its associated value appears to the right of the colon symbol. In the second line printed above notice that the key-value pairs are precisely tuples contained in a list. \n",
    "\n",
    "\n",
    "Each key points towards a value and can be accessed with the square brackets ```sample_dictionary[key_name] = key_value```. For example, run the following code in the cell below:\n",
    "```python\n",
    "print(f\"sample_dictionary = {sample_dictionary} \\n\")\n",
    "print(f\"sample_dictionary['first_name'] = {sample_dictionary['first_name']} \\n\")\n",
    "print(f\"sample_dictionary['last_name'] = {sample_dictionary['last_name']} \\n\")\n",
    "print(f\"sample_dictionary['age'] = {sample_dictionary['age']} \\n\")\n",
    "\n",
    "```\n",
    "\n",
    "**Note.** In this code I wanted to include the string keys inside of my print statement. I was able to do this because I used single quotes inside of my outside double quote string. If I had tried to double quotes inside of my double quoted string, I would have recieved an error. \n",
    "\n",
    "\n",
    "---"
   ]
  },
  {
   "cell_type": "code",
   "execution_count": null,
   "metadata": {},
   "outputs": [],
   "source": []
  },
  {
   "cell_type": "markdown",
   "metadata": {},
   "source": [
    "---\n",
    "\n",
    "To access the keys of of a dictionary we simple call the ```keys()``` dictionary method. Try running the following code in the cell below:\n",
    "```python\n",
    "print(f\"sample_dictionary = {sample_dictionary} \\n\")\n",
    "print(f\"sample_dictionary keys = {sample_dictionary.keys()} \\n\")\n",
    "```\n",
    "\n",
    "\n",
    "---"
   ]
  },
  {
   "cell_type": "code",
   "execution_count": null,
   "metadata": {},
   "outputs": [],
   "source": []
  },
  {
   "cell_type": "markdown",
   "metadata": {},
   "source": [
    "---\n",
    "\n",
    "To access the keys values of of a dictionary we simple call the ```values()``` dictionary method. Try running the following code in the cell below:\n",
    "```python\n",
    "print(f\"sample_dictionary = {sample_dictionary} \\n\")\n",
    "print(f\"sample_dictionary values = {sample_dictionary.values()} \\n\")\n",
    "```\n",
    "\n",
    "\n",
    "---"
   ]
  },
  {
   "cell_type": "code",
   "execution_count": null,
   "metadata": {},
   "outputs": [],
   "source": []
  },
  {
   "cell_type": "markdown",
   "metadata": {},
   "source": [
    "---\n",
    "\n",
    "We can add a new key-value pair to our dictionary by passing a key into the sqaure brackets which is assigned to your choice of value. If the key already exists in the dictionary, the old value will be replaced with the new value. For example, run the following code in the cell below:\n",
    "```python\n",
    "new_dictionary = {'first_name': 'John', 'last_name': 'Doe', 'age': 34}\n",
    "\n",
    "print(\"new_dictionary before modification:\")\n",
    "print(new_dictionary, \"\\n\")\n",
    "\n",
    "print(\"----------------------------------------------------------------------\")\n",
    "\n",
    "new_dictionary[\"first_name\"] = \"Jane\"\n",
    "new_dictionary[\"sex\"] = \"female\"\n",
    "\n",
    "print(\"new_dictionary after modification:\")\n",
    "print(new_dictionary, \"\\n\")\n",
    "```\n",
    "\n",
    "---"
   ]
  },
  {
   "cell_type": "code",
   "execution_count": null,
   "metadata": {},
   "outputs": [],
   "source": []
  },
  {
   "cell_type": "markdown",
   "metadata": {},
   "source": [
    "---\n",
    "\n",
    "### Restrictions on Dictionary Keys\n",
    "\n",
    "Almost any type of value can be used as a dictionary key in Python. However, there are a couple restrictions that dictionary keys must abide by:\n",
    "1. A given key can appear in a dictionary only once. Duplicate keys are not allowed.  \n",
    "2. A dictionary key must be of a type that is immutable, such types include integers, floats, strings, Booleans, and tuples. \n",
    "\n",
    "### Restrictions on Dictionary Values\n",
    "A dictionary value can be any type of object Python supports, including mutable types like lists and dictionaries, and user-defined objects.\n",
    "\n",
    "\n",
    "From a data science perspective, dictionaries can be used to model *databases*. By this I mean that that keys can point to dictionaries contained specific values needed, which in-turn can also be dictionaries. This tree like structure mimics the stucture of many databases. For example, consider running the following code in the cell below:\n",
    "```python\n",
    "employees = {\"John\": {\"Age\": 20, \"Position\": \"sales\", \"Salary\": 60_000},\n",
    "             \"Jane\" :{\"Age\": 25, \"Position\": \"management\", \"Salary\": 80_000}\n",
    "            }\n",
    "\n",
    "vendors = {\"Houston Supply\" : {\"Product\": \"computers\", \"Monthly Fee\": 20_000,},\n",
    "           \"ACME\": {\"Product\": \"keyboards\", \"Monthly Fee\": 3_000}\n",
    "          }\n",
    "           \n",
    "database = {\"employees\": employees, \"vendors\": vendors}\n",
    "\n",
    "\n",
    "\n",
    "\n",
    "```\n",
    "\n",
    "\n",
    "\n",
    "---"
   ]
  },
  {
   "cell_type": "code",
   "execution_count": null,
   "metadata": {},
   "outputs": [],
   "source": []
  },
  {
   "cell_type": "markdown",
   "metadata": {},
   "source": [
    "---\n",
    "\n",
    "Next run the following code in the cell below:\n",
    "```python\n",
    "print(database[\"employees\"])\n",
    "```\n",
    "\n",
    "\n",
    "---"
   ]
  },
  {
   "cell_type": "code",
   "execution_count": null,
   "metadata": {},
   "outputs": [],
   "source": []
  },
  {
   "cell_type": "markdown",
   "metadata": {},
   "source": [
    "---\n",
    "\n",
    "Next run the following code in the cell below:\n",
    "```python\n",
    "print(database[\"employees\"][\"Jane\"])\n",
    "```\n",
    "\n",
    "\n",
    "---"
   ]
  },
  {
   "cell_type": "code",
   "execution_count": null,
   "metadata": {},
   "outputs": [],
   "source": []
  },
  {
   "cell_type": "markdown",
   "metadata": {},
   "source": [
    "---\n",
    "\n",
    "We have not covered ```for-loops``` yet, but I would like for you to next run the following code in the cell below and try to decipher what exactly is happening:\n",
    "```python\n",
    "for field in database:\n",
    "    print(f\"{field.capitalize()}:\")\n",
    "    print(\"----------\")\n",
    "    for field_two in database[field]:\n",
    "        print(f\"           {field_two.capitalize()}:\")\n",
    "        print(\"           ----------------\")\n",
    "        for prop in database[field][field_two]:\n",
    "            print(f\"           {prop}: {database[field][field_two][prop]}\")\n",
    "        print()\n",
    "    print()\n",
    "\n",
    "\n",
    "```\n",
    "\n",
    "\n",
    "---"
   ]
  },
  {
   "cell_type": "code",
   "execution_count": null,
   "metadata": {},
   "outputs": [],
   "source": []
  },
  {
   "cell_type": "code",
   "execution_count": null,
   "metadata": {},
   "outputs": [],
   "source": []
  },
  {
   "cell_type": "code",
   "execution_count": null,
   "metadata": {},
   "outputs": [],
   "source": []
  },
  {
   "cell_type": "code",
   "execution_count": null,
   "metadata": {},
   "outputs": [],
   "source": []
  },
  {
   "cell_type": "markdown",
   "metadata": {},
   "source": [
    "---\n",
    "\n",
    "For a full list of Python dictionary method please see this [link.](https://www.w3schools.com/python/python_ref_dictionary.asp)\n",
    "\n",
    "\n",
    "---"
   ]
  }
 ],
 "metadata": {
  "@webio": {
   "lastCommId": null,
   "lastKernelId": null
  },
  "kernelspec": {
   "display_name": "Python 3.10.6 64-bit",
   "language": "python",
   "name": "python3"
  },
  "language_info": {
   "codemirror_mode": {
    "name": "ipython",
    "version": 3
   },
   "file_extension": ".py",
   "mimetype": "text/x-python",
   "name": "python",
   "nbconvert_exporter": "python",
   "pygments_lexer": "ipython3",
   "version": "3.11.5"
  },
  "vscode": {
   "interpreter": {
    "hash": "610c699f0cd8c4f129acd9140687fff6866bed0eb8e82f249fc8848b827b628c"
   }
  }
 },
 "nbformat": 4,
 "nbformat_minor": 4
}
