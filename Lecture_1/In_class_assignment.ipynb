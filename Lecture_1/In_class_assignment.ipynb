{
 "cells": [
  {
   "cell_type": "code",
   "execution_count": null,
   "metadata": {},
   "outputs": [],
   "source": [
    "#Making a custom database\n",
    "#Each employee has a name which points towards age, position, and salary \n",
    "#Each vendor has a name which points towards a product and monthly fees\n",
    "#Create a databest object tha can be printed, computed yearly expanses\n",
    "# we can also add employee and vendor data "
   ]
  }
 ],
 "metadata": {
  "language_info": {
   "name": "python"
  }
 },
 "nbformat": 4,
 "nbformat_minor": 2
}
